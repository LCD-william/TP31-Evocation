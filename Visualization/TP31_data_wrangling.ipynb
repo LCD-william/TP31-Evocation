{
 "cells": [
  {
   "cell_type": "code",
   "execution_count": 1,
   "metadata": {
    "scrolled": true
   },
   "outputs": [
    {
     "name": "stderr",
     "output_type": "stream",
     "text": [
      "C:\\Users\\Nikita Hans\\Anaconda3\\envs\\r-tutorial\\lib\\site-packages\\numpy\\_distributor_init.py:32: UserWarning: loaded more than 1 DLL from .libs:\n",
      "C:\\Users\\Nikita Hans\\Anaconda3\\envs\\r-tutorial\\lib\\site-packages\\numpy\\.libs\\libopenblas.GK7GX5KEQ4F6UYO3P26ULGBQYHGQO7J4.gfortran-win_amd64.dll\n",
      "C:\\Users\\Nikita Hans\\Anaconda3\\envs\\r-tutorial\\lib\\site-packages\\numpy\\.libs\\libopenblas.NOIJJG62EMASZI6NYURL6JBKM4EVBGM7.gfortran-win_amd64.dll\n",
      "  stacklevel=1)\n"
     ]
    }
   ],
   "source": [
    "# Import pandas library\n",
    "import pandas as pd"
   ]
  },
  {
   "cell_type": "markdown",
   "metadata": {},
   "source": [
    "## Total depression %"
   ]
  },
  {
   "cell_type": "code",
   "execution_count": 2,
   "metadata": {},
   "outputs": [],
   "source": [
    "# Reading first sheet - prevalence-by-mental-and-substa\n",
    "total_percent = pd.read_excel('Mental health Depression disorder Data.xlsx', sheet_name = 0)  "
   ]
  },
  {
   "cell_type": "code",
   "execution_count": null,
   "metadata": {},
   "outputs": [],
   "source": [
    "# Preview dataset\n",
    "total_percent.head()"
   ]
  },
  {
   "cell_type": "code",
   "execution_count": 3,
   "metadata": {},
   "outputs": [],
   "source": [
    "# Subset dataset for depression\n",
    "total_depression_percent = total_percent[[\"Entity\",\"Code\",\"Year\",\"Depression (%)\"]]"
   ]
  },
  {
   "cell_type": "code",
   "execution_count": null,
   "metadata": {},
   "outputs": [],
   "source": [
    "# Preview dataset\n",
    "total_depression_percent.head()"
   ]
  },
  {
   "cell_type": "code",
   "execution_count": 4,
   "metadata": {},
   "outputs": [],
   "source": [
    "# Subset dataset for depression in Australia\n",
    "total_depression_percent_australia = total_depression_percent[total_depression_percent['Entity'] == 'Australia']"
   ]
  },
  {
   "cell_type": "code",
   "execution_count": null,
   "metadata": {},
   "outputs": [],
   "source": [
    "# Preview dataset\n",
    "total_depression_percent_australia.head()"
   ]
  },
  {
   "cell_type": "code",
   "execution_count": 5,
   "metadata": {},
   "outputs": [],
   "source": [
    "# Filter data for years 2004 onwards\n",
    "total_depression_percent_australia = total_depression_percent_australia[total_depression_percent_australia['Year'] > 2003]"
   ]
  },
  {
   "cell_type": "code",
   "execution_count": 6,
   "metadata": {
    "scrolled": true
   },
   "outputs": [
    {
     "data": {
      "text/html": [
       "<div>\n",
       "<style scoped>\n",
       "    .dataframe tbody tr th:only-of-type {\n",
       "        vertical-align: middle;\n",
       "    }\n",
       "\n",
       "    .dataframe tbody tr th {\n",
       "        vertical-align: top;\n",
       "    }\n",
       "\n",
       "    .dataframe thead th {\n",
       "        text-align: right;\n",
       "    }\n",
       "</style>\n",
       "<table border=\"1\" class=\"dataframe\">\n",
       "  <thead>\n",
       "    <tr style=\"text-align: right;\">\n",
       "      <th></th>\n",
       "      <th>Entity</th>\n",
       "      <th>Code</th>\n",
       "      <th>Year</th>\n",
       "      <th>Depression (%)</th>\n",
       "    </tr>\n",
       "  </thead>\n",
       "  <tbody>\n",
       "    <tr>\n",
       "      <th>322</th>\n",
       "      <td>Australia</td>\n",
       "      <td>AUS</td>\n",
       "      <td>2004</td>\n",
       "      <td>4.920486</td>\n",
       "    </tr>\n",
       "    <tr>\n",
       "      <th>323</th>\n",
       "      <td>Australia</td>\n",
       "      <td>AUS</td>\n",
       "      <td>2005</td>\n",
       "      <td>4.929038</td>\n",
       "    </tr>\n",
       "    <tr>\n",
       "      <th>324</th>\n",
       "      <td>Australia</td>\n",
       "      <td>AUS</td>\n",
       "      <td>2006</td>\n",
       "      <td>4.923528</td>\n",
       "    </tr>\n",
       "    <tr>\n",
       "      <th>325</th>\n",
       "      <td>Australia</td>\n",
       "      <td>AUS</td>\n",
       "      <td>2007</td>\n",
       "      <td>4.906827</td>\n",
       "    </tr>\n",
       "    <tr>\n",
       "      <th>326</th>\n",
       "      <td>Australia</td>\n",
       "      <td>AUS</td>\n",
       "      <td>2008</td>\n",
       "      <td>4.882334</td>\n",
       "    </tr>\n",
       "    <tr>\n",
       "      <th>327</th>\n",
       "      <td>Australia</td>\n",
       "      <td>AUS</td>\n",
       "      <td>2009</td>\n",
       "      <td>4.857927</td>\n",
       "    </tr>\n",
       "    <tr>\n",
       "      <th>328</th>\n",
       "      <td>Australia</td>\n",
       "      <td>AUS</td>\n",
       "      <td>2010</td>\n",
       "      <td>4.834220</td>\n",
       "    </tr>\n",
       "    <tr>\n",
       "      <th>329</th>\n",
       "      <td>Australia</td>\n",
       "      <td>AUS</td>\n",
       "      <td>2011</td>\n",
       "      <td>4.813622</td>\n",
       "    </tr>\n",
       "    <tr>\n",
       "      <th>330</th>\n",
       "      <td>Australia</td>\n",
       "      <td>AUS</td>\n",
       "      <td>2012</td>\n",
       "      <td>4.790080</td>\n",
       "    </tr>\n",
       "    <tr>\n",
       "      <th>331</th>\n",
       "      <td>Australia</td>\n",
       "      <td>AUS</td>\n",
       "      <td>2013</td>\n",
       "      <td>4.759686</td>\n",
       "    </tr>\n",
       "  </tbody>\n",
       "</table>\n",
       "</div>"
      ],
      "text/plain": [
       "        Entity Code  Year  Depression (%)\n",
       "322  Australia  AUS  2004        4.920486\n",
       "323  Australia  AUS  2005        4.929038\n",
       "324  Australia  AUS  2006        4.923528\n",
       "325  Australia  AUS  2007        4.906827\n",
       "326  Australia  AUS  2008        4.882334\n",
       "327  Australia  AUS  2009        4.857927\n",
       "328  Australia  AUS  2010        4.834220\n",
       "329  Australia  AUS  2011        4.813622\n",
       "330  Australia  AUS  2012        4.790080\n",
       "331  Australia  AUS  2013        4.759686"
      ]
     },
     "execution_count": 6,
     "metadata": {},
     "output_type": "execute_result"
    }
   ],
   "source": [
    "# Preview dataset\n",
    "total_depression_percent_australia.head(10)"
   ]
  },
  {
   "cell_type": "code",
   "execution_count": 11,
   "metadata": {},
   "outputs": [],
   "source": [
    "# total_depression_percent_australia.to_csv(\"Total_depression_percent_AUS.csv\", index = False)"
   ]
  },
  {
   "cell_type": "markdown",
   "metadata": {},
   "source": [
    "## Total depression % by age"
   ]
  },
  {
   "cell_type": "code",
   "execution_count": 12,
   "metadata": {},
   "outputs": [],
   "source": [
    "# Reading third sheet - prevalence-of-depression-by-age\n",
    "total_percent_by_age = pd.read_excel('Mental health Depression disorder Data.xlsx', sheet_name = 2)  "
   ]
  },
  {
   "cell_type": "code",
   "execution_count": null,
   "metadata": {},
   "outputs": [],
   "source": [
    "# Preview dataset\n",
    "total_percent_by_age.head()"
   ]
  },
  {
   "cell_type": "code",
   "execution_count": 13,
   "metadata": {},
   "outputs": [],
   "source": [
    "# Subset dataset for depression in Australia\n",
    "total_percent_by_age_australia = total_percent_by_age[total_percent_by_age['Entity'] == 'Australia']"
   ]
  },
  {
   "cell_type": "code",
   "execution_count": null,
   "metadata": {},
   "outputs": [],
   "source": [
    "# Preview dataset\n",
    "total_percent_by_age_australia.head()"
   ]
  },
  {
   "cell_type": "code",
   "execution_count": 14,
   "metadata": {},
   "outputs": [],
   "source": [
    "# Filter data for years 2004 onwards\n",
    "total_percent_by_age_australia = total_percent_by_age_australia[total_percent_by_age_australia['Year'] > 2003]"
   ]
  },
  {
   "cell_type": "code",
   "execution_count": null,
   "metadata": {},
   "outputs": [],
   "source": [
    "# Preview dataset\n",
    "total_percent_by_age_australia.head(10)"
   ]
  },
  {
   "cell_type": "code",
   "execution_count": 15,
   "metadata": {},
   "outputs": [],
   "source": [
    "# Filter data by age of target audience and potential audience\n",
    "total_percent_by_age_australia = total_percent_by_age_australia[[\"Entity\", \"Code\", \"Year\", \"20-24 years old (%)\", \"15-19 years old (%)\", \"25-29 years old (%)\", \"Age-standardized (%)\", \"15-49 years old (%)\"]]"
   ]
  },
  {
   "cell_type": "code",
   "execution_count": 16,
   "metadata": {},
   "outputs": [
    {
     "data": {
      "text/html": [
       "<div>\n",
       "<style scoped>\n",
       "    .dataframe tbody tr th:only-of-type {\n",
       "        vertical-align: middle;\n",
       "    }\n",
       "\n",
       "    .dataframe tbody tr th {\n",
       "        vertical-align: top;\n",
       "    }\n",
       "\n",
       "    .dataframe thead th {\n",
       "        text-align: right;\n",
       "    }\n",
       "</style>\n",
       "<table border=\"1\" class=\"dataframe\">\n",
       "  <thead>\n",
       "    <tr style=\"text-align: right;\">\n",
       "      <th></th>\n",
       "      <th>Entity</th>\n",
       "      <th>Code</th>\n",
       "      <th>Year</th>\n",
       "      <th>20-24 years old (%)</th>\n",
       "      <th>15-19 years old (%)</th>\n",
       "      <th>25-29 years old (%)</th>\n",
       "      <th>Age-standardized (%)</th>\n",
       "      <th>15-49 years old (%)</th>\n",
       "    </tr>\n",
       "  </thead>\n",
       "  <tbody>\n",
       "    <tr>\n",
       "      <th>322</th>\n",
       "      <td>Australia</td>\n",
       "      <td>AUS</td>\n",
       "      <td>2004</td>\n",
       "      <td>7.089759</td>\n",
       "      <td>5.832159</td>\n",
       "      <td>6.700217</td>\n",
       "      <td>4.920486</td>\n",
       "      <td>6.481967</td>\n",
       "    </tr>\n",
       "    <tr>\n",
       "      <th>323</th>\n",
       "      <td>Australia</td>\n",
       "      <td>AUS</td>\n",
       "      <td>2005</td>\n",
       "      <td>7.106204</td>\n",
       "      <td>5.855264</td>\n",
       "      <td>6.709736</td>\n",
       "      <td>4.929038</td>\n",
       "      <td>6.493635</td>\n",
       "    </tr>\n",
       "    <tr>\n",
       "      <th>324</th>\n",
       "      <td>Australia</td>\n",
       "      <td>AUS</td>\n",
       "      <td>2006</td>\n",
       "      <td>7.093438</td>\n",
       "      <td>5.853546</td>\n",
       "      <td>6.689783</td>\n",
       "      <td>4.923528</td>\n",
       "      <td>6.486472</td>\n",
       "    </tr>\n",
       "    <tr>\n",
       "      <th>325</th>\n",
       "      <td>Australia</td>\n",
       "      <td>AUS</td>\n",
       "      <td>2007</td>\n",
       "      <td>7.052174</td>\n",
       "      <td>5.818322</td>\n",
       "      <td>6.647053</td>\n",
       "      <td>4.906827</td>\n",
       "      <td>6.461450</td>\n",
       "    </tr>\n",
       "    <tr>\n",
       "      <th>326</th>\n",
       "      <td>Australia</td>\n",
       "      <td>AUS</td>\n",
       "      <td>2008</td>\n",
       "      <td>6.992847</td>\n",
       "      <td>5.777266</td>\n",
       "      <td>6.587847</td>\n",
       "      <td>4.882334</td>\n",
       "      <td>6.426644</td>\n",
       "    </tr>\n",
       "  </tbody>\n",
       "</table>\n",
       "</div>"
      ],
      "text/plain": [
       "        Entity Code  Year  20-24 years old (%)  15-19 years old (%)  \\\n",
       "322  Australia  AUS  2004             7.089759             5.832159   \n",
       "323  Australia  AUS  2005             7.106204             5.855264   \n",
       "324  Australia  AUS  2006             7.093438             5.853546   \n",
       "325  Australia  AUS  2007             7.052174             5.818322   \n",
       "326  Australia  AUS  2008             6.992847             5.777266   \n",
       "\n",
       "     25-29 years old (%)  Age-standardized (%)  15-49 years old (%)  \n",
       "322             6.700217              4.920486             6.481967  \n",
       "323             6.709736              4.929038             6.493635  \n",
       "324             6.689783              4.923528             6.486472  \n",
       "325             6.647053              4.906827             6.461450  \n",
       "326             6.587847              4.882334             6.426644  "
      ]
     },
     "execution_count": 16,
     "metadata": {},
     "output_type": "execute_result"
    }
   ],
   "source": [
    "# Preview dataset\n",
    "total_percent_by_age_australia.head()"
   ]
  },
  {
   "cell_type": "code",
   "execution_count": 17,
   "metadata": {},
   "outputs": [],
   "source": [
    "# total_percent_by_age_australia.to_csv(\"Total_depression_percent_by_age_AUS.csv\", index = False)"
   ]
  },
  {
   "cell_type": "markdown",
   "metadata": {},
   "source": [
    "## Total depression % by gender"
   ]
  },
  {
   "cell_type": "code",
   "execution_count": 18,
   "metadata": {},
   "outputs": [],
   "source": [
    "# Reading fourth sheet - prevalence-by-mental-and-substa\n",
    "total_percent_by_gender = pd.read_excel('Mental health Depression disorder Data.xlsx', sheet_name = 3)  "
   ]
  },
  {
   "cell_type": "code",
   "execution_count": null,
   "metadata": {},
   "outputs": [],
   "source": [
    "# Preview dataset\n",
    "total_percent_by_gender.head()"
   ]
  },
  {
   "cell_type": "code",
   "execution_count": 19,
   "metadata": {},
   "outputs": [],
   "source": [
    "# Subset dataset for depression in Australia\n",
    "total_percent_by_gender_australia = total_percent_by_gender[total_percent_by_gender['Entity'] == 'Australia']"
   ]
  },
  {
   "cell_type": "code",
   "execution_count": null,
   "metadata": {},
   "outputs": [],
   "source": [
    "# Preview dataset\n",
    "total_percent_by_gender_australia.head()"
   ]
  },
  {
   "cell_type": "code",
   "execution_count": 20,
   "metadata": {},
   "outputs": [],
   "source": [
    "# Filter data for years 2004 onwards\n",
    "total_percent_by_gender_australia = total_percent_by_gender_australia[total_percent_by_gender_australia['Year'] > 2003]"
   ]
  },
  {
   "cell_type": "code",
   "execution_count": null,
   "metadata": {},
   "outputs": [],
   "source": [
    "# Preview dataset\n",
    "total_percent_by_gender_australia.tail(10)"
   ]
  },
  {
   "cell_type": "code",
   "execution_count": 21,
   "metadata": {},
   "outputs": [
    {
     "data": {
      "text/plain": [
       "Entity                       0\n",
       "Code                         0\n",
       "Year                         0\n",
       "Prevalence in males (%)      2\n",
       "Prevalence in females (%)    2\n",
       "Population                   0\n",
       "dtype: int64"
      ]
     },
     "execution_count": 21,
     "metadata": {},
     "output_type": "execute_result"
    }
   ],
   "source": [
    "# Check NULL values\n",
    "total_percent_by_gender_australia.isnull().sum()"
   ]
  },
  {
   "cell_type": "code",
   "execution_count": 22,
   "metadata": {},
   "outputs": [],
   "source": [
    "# Remove rows with NaN values\n",
    "total_percent_by_gender_australia = total_percent_by_gender_australia.dropna()"
   ]
  },
  {
   "cell_type": "code",
   "execution_count": 23,
   "metadata": {},
   "outputs": [
    {
     "data": {
      "text/plain": [
       "Entity                       0\n",
       "Code                         0\n",
       "Year                         0\n",
       "Prevalence in males (%)      0\n",
       "Prevalence in females (%)    0\n",
       "Population                   0\n",
       "dtype: int64"
      ]
     },
     "execution_count": 23,
     "metadata": {},
     "output_type": "execute_result"
    }
   ],
   "source": [
    "# Check NULL values\n",
    "total_percent_by_gender_australia.isnull().sum()"
   ]
  },
  {
   "cell_type": "code",
   "execution_count": 24,
   "metadata": {},
   "outputs": [
    {
     "data": {
      "text/html": [
       "<div>\n",
       "<style scoped>\n",
       "    .dataframe tbody tr th:only-of-type {\n",
       "        vertical-align: middle;\n",
       "    }\n",
       "\n",
       "    .dataframe tbody tr th {\n",
       "        vertical-align: top;\n",
       "    }\n",
       "\n",
       "    .dataframe thead th {\n",
       "        text-align: right;\n",
       "    }\n",
       "</style>\n",
       "<table border=\"1\" class=\"dataframe\">\n",
       "  <thead>\n",
       "    <tr style=\"text-align: right;\">\n",
       "      <th></th>\n",
       "      <th>Entity</th>\n",
       "      <th>Code</th>\n",
       "      <th>Year</th>\n",
       "      <th>Prevalence in males (%)</th>\n",
       "      <th>Prevalence in females (%)</th>\n",
       "      <th>Population</th>\n",
       "    </tr>\n",
       "  </thead>\n",
       "  <tbody>\n",
       "    <tr>\n",
       "      <th>2474</th>\n",
       "      <td>Australia</td>\n",
       "      <td>AUS</td>\n",
       "      <td>2004</td>\n",
       "      <td>3.820040</td>\n",
       "      <td>5.982915</td>\n",
       "      <td>19880000.0</td>\n",
       "    </tr>\n",
       "    <tr>\n",
       "      <th>2475</th>\n",
       "      <td>Australia</td>\n",
       "      <td>AUS</td>\n",
       "      <td>2005</td>\n",
       "      <td>3.822804</td>\n",
       "      <td>5.997198</td>\n",
       "      <td>20179000.0</td>\n",
       "    </tr>\n",
       "    <tr>\n",
       "      <th>2476</th>\n",
       "      <td>Australia</td>\n",
       "      <td>AUS</td>\n",
       "      <td>2006</td>\n",
       "      <td>3.817663</td>\n",
       "      <td>5.991572</td>\n",
       "      <td>20526000.0</td>\n",
       "    </tr>\n",
       "    <tr>\n",
       "      <th>2477</th>\n",
       "      <td>Australia</td>\n",
       "      <td>AUS</td>\n",
       "      <td>2007</td>\n",
       "      <td>3.803760</td>\n",
       "      <td>5.972281</td>\n",
       "      <td>20916000.0</td>\n",
       "    </tr>\n",
       "    <tr>\n",
       "      <th>2478</th>\n",
       "      <td>Australia</td>\n",
       "      <td>AUS</td>\n",
       "      <td>2008</td>\n",
       "      <td>3.785996</td>\n",
       "      <td>5.941450</td>\n",
       "      <td>21332000.0</td>\n",
       "    </tr>\n",
       "  </tbody>\n",
       "</table>\n",
       "</div>"
      ],
      "text/plain": [
       "         Entity Code  Year  Prevalence in males (%)  \\\n",
       "2474  Australia  AUS  2004                 3.820040   \n",
       "2475  Australia  AUS  2005                 3.822804   \n",
       "2476  Australia  AUS  2006                 3.817663   \n",
       "2477  Australia  AUS  2007                 3.803760   \n",
       "2478  Australia  AUS  2008                 3.785996   \n",
       "\n",
       "      Prevalence in females (%)  Population  \n",
       "2474                   5.982915  19880000.0  \n",
       "2475                   5.997198  20179000.0  \n",
       "2476                   5.991572  20526000.0  \n",
       "2477                   5.972281  20916000.0  \n",
       "2478                   5.941450  21332000.0  "
      ]
     },
     "execution_count": 24,
     "metadata": {},
     "output_type": "execute_result"
    }
   ],
   "source": [
    "total_percent_by_gender_australia.head()"
   ]
  },
  {
   "cell_type": "code",
   "execution_count": 25,
   "metadata": {},
   "outputs": [],
   "source": [
    "# total_percent_by_gender_australia.to_csv(\"Total_depression_percent_by_gender_AUS.csv\", index = False)"
   ]
  },
  {
   "cell_type": "markdown",
   "metadata": {},
   "source": [
    "## Total suicide rate via depression"
   ]
  },
  {
   "cell_type": "code",
   "execution_count": 26,
   "metadata": {},
   "outputs": [],
   "source": [
    "# Reading fifth sheet - prevalence-by-mental-and-substa\n",
    "total_suicide_rate = pd.read_excel('Mental health Depression disorder Data.xlsx', sheet_name = 4)  "
   ]
  },
  {
   "cell_type": "code",
   "execution_count": null,
   "metadata": {},
   "outputs": [],
   "source": [
    "# Preview dataset\n",
    "total_suicide_rate.head()"
   ]
  },
  {
   "cell_type": "code",
   "execution_count": 27,
   "metadata": {},
   "outputs": [],
   "source": [
    "# Subset dataset for depression in Australia\n",
    "total_suicide_rate_australia = total_suicide_rate[total_suicide_rate['Entity'] == 'Australia']"
   ]
  },
  {
   "cell_type": "code",
   "execution_count": null,
   "metadata": {},
   "outputs": [],
   "source": [
    "# Preview dataset\n",
    "total_suicide_rate_australia.head()"
   ]
  },
  {
   "cell_type": "code",
   "execution_count": 28,
   "metadata": {},
   "outputs": [],
   "source": [
    "# Filter data for years 2004 onwards\n",
    "total_suicide_rate_australia = total_suicide_rate_australia[total_suicide_rate_australia['Year'] > 2003]"
   ]
  },
  {
   "cell_type": "code",
   "execution_count": null,
   "metadata": {},
   "outputs": [],
   "source": [
    "# Preview dataset\n",
    "total_suicide_rate_australia.tail(10)"
   ]
  },
  {
   "cell_type": "code",
   "execution_count": 29,
   "metadata": {},
   "outputs": [
    {
     "data": {
      "text/plain": [
       "Entity                                                      0\n",
       "Code                                                        0\n",
       "Year                                                        0\n",
       "Suicide rate (deaths per 100,000 individuals)               2\n",
       "Depressive disorder rates (number suffering per 100,000)    2\n",
       "Population                                                  0\n",
       "dtype: int64"
      ]
     },
     "execution_count": 29,
     "metadata": {},
     "output_type": "execute_result"
    }
   ],
   "source": [
    "# Check NULL values\n",
    "total_suicide_rate_australia.isnull().sum()"
   ]
  },
  {
   "cell_type": "code",
   "execution_count": 30,
   "metadata": {},
   "outputs": [],
   "source": [
    "# Remove rows with NaN values\n",
    "total_suicide_rate_australia = total_suicide_rate_australia.dropna()"
   ]
  },
  {
   "cell_type": "code",
   "execution_count": 31,
   "metadata": {},
   "outputs": [
    {
     "data": {
      "text/plain": [
       "Entity                                                      0\n",
       "Code                                                        0\n",
       "Year                                                        0\n",
       "Suicide rate (deaths per 100,000 individuals)               0\n",
       "Depressive disorder rates (number suffering per 100,000)    0\n",
       "Population                                                  0\n",
       "dtype: int64"
      ]
     },
     "execution_count": 31,
     "metadata": {},
     "output_type": "execute_result"
    }
   ],
   "source": [
    "# Confirm NULL values\n",
    "total_suicide_rate_australia.isnull().sum()"
   ]
  },
  {
   "cell_type": "code",
   "execution_count": 32,
   "metadata": {},
   "outputs": [
    {
     "data": {
      "text/html": [
       "<div>\n",
       "<style scoped>\n",
       "    .dataframe tbody tr th:only-of-type {\n",
       "        vertical-align: middle;\n",
       "    }\n",
       "\n",
       "    .dataframe tbody tr th {\n",
       "        vertical-align: top;\n",
       "    }\n",
       "\n",
       "    .dataframe thead th {\n",
       "        text-align: right;\n",
       "    }\n",
       "</style>\n",
       "<table border=\"1\" class=\"dataframe\">\n",
       "  <thead>\n",
       "    <tr style=\"text-align: right;\">\n",
       "      <th></th>\n",
       "      <th>Entity</th>\n",
       "      <th>Code</th>\n",
       "      <th>Year</th>\n",
       "      <th>Suicide rate (deaths per 100,000 individuals)</th>\n",
       "      <th>Depressive disorder rates (number suffering per 100,000)</th>\n",
       "      <th>Population</th>\n",
       "    </tr>\n",
       "  </thead>\n",
       "  <tbody>\n",
       "    <tr>\n",
       "      <th>2474</th>\n",
       "      <td>Australia</td>\n",
       "      <td>AUS</td>\n",
       "      <td>2004</td>\n",
       "      <td>10.653485</td>\n",
       "      <td>4375.236303</td>\n",
       "      <td>19880000.0</td>\n",
       "    </tr>\n",
       "    <tr>\n",
       "      <th>2475</th>\n",
       "      <td>Australia</td>\n",
       "      <td>AUS</td>\n",
       "      <td>2005</td>\n",
       "      <td>10.414253</td>\n",
       "      <td>4381.721579</td>\n",
       "      <td>20179000.0</td>\n",
       "    </tr>\n",
       "    <tr>\n",
       "      <th>2476</th>\n",
       "      <td>Australia</td>\n",
       "      <td>AUS</td>\n",
       "      <td>2006</td>\n",
       "      <td>10.255009</td>\n",
       "      <td>4376.469916</td>\n",
       "      <td>20526000.0</td>\n",
       "    </tr>\n",
       "    <tr>\n",
       "      <th>2477</th>\n",
       "      <td>Australia</td>\n",
       "      <td>AUS</td>\n",
       "      <td>2007</td>\n",
       "      <td>10.540822</td>\n",
       "      <td>4361.404148</td>\n",
       "      <td>20916000.0</td>\n",
       "    </tr>\n",
       "    <tr>\n",
       "      <th>2478</th>\n",
       "      <td>Australia</td>\n",
       "      <td>AUS</td>\n",
       "      <td>2008</td>\n",
       "      <td>10.696836</td>\n",
       "      <td>4339.665686</td>\n",
       "      <td>21332000.0</td>\n",
       "    </tr>\n",
       "  </tbody>\n",
       "</table>\n",
       "</div>"
      ],
      "text/plain": [
       "         Entity Code  Year  Suicide rate (deaths per 100,000 individuals)  \\\n",
       "2474  Australia  AUS  2004                                      10.653485   \n",
       "2475  Australia  AUS  2005                                      10.414253   \n",
       "2476  Australia  AUS  2006                                      10.255009   \n",
       "2477  Australia  AUS  2007                                      10.540822   \n",
       "2478  Australia  AUS  2008                                      10.696836   \n",
       "\n",
       "      Depressive disorder rates (number suffering per 100,000)  Population  \n",
       "2474                                        4375.236303         19880000.0  \n",
       "2475                                        4381.721579         20179000.0  \n",
       "2476                                        4376.469916         20526000.0  \n",
       "2477                                        4361.404148         20916000.0  \n",
       "2478                                        4339.665686         21332000.0  "
      ]
     },
     "execution_count": 32,
     "metadata": {},
     "output_type": "execute_result"
    }
   ],
   "source": [
    "# Preview dataset\n",
    "total_suicide_rate_australia.head()"
   ]
  },
  {
   "cell_type": "markdown",
   "metadata": {},
   "source": [
    "#### TODO: Calculate suicide rate due to depression from the above data"
   ]
  },
  {
   "cell_type": "markdown",
   "metadata": {},
   "source": [
    "## Total depression population"
   ]
  },
  {
   "cell_type": "code",
   "execution_count": 33,
   "metadata": {},
   "outputs": [],
   "source": [
    "# Reading sixth sheet - prevalence-by-mental-and-substa\n",
    "total_depression_population = pd.read_excel('Mental health Depression disorder Data.xlsx', sheet_name = 5)  "
   ]
  },
  {
   "cell_type": "code",
   "execution_count": null,
   "metadata": {},
   "outputs": [],
   "source": [
    "# Preview dataset\n",
    "total_depression_population.head()"
   ]
  },
  {
   "cell_type": "code",
   "execution_count": 34,
   "metadata": {},
   "outputs": [],
   "source": [
    "# Subset dataset for depression in Australia\n",
    "total_depression_population_australia = total_depression_population[total_depression_population['Entity'] == 'Australia']"
   ]
  },
  {
   "cell_type": "code",
   "execution_count": null,
   "metadata": {},
   "outputs": [],
   "source": [
    "# Preview dataset\n",
    "total_depression_population_australia.head()"
   ]
  },
  {
   "cell_type": "code",
   "execution_count": 35,
   "metadata": {},
   "outputs": [],
   "source": [
    "# Filter data for years 2004 onwards\n",
    "total_depression_population_australia = total_depression_population_australia[total_depression_population_australia['Year'] > 2003]"
   ]
  },
  {
   "cell_type": "code",
   "execution_count": 36,
   "metadata": {},
   "outputs": [
    {
     "data": {
      "text/html": [
       "<div>\n",
       "<style scoped>\n",
       "    .dataframe tbody tr th:only-of-type {\n",
       "        vertical-align: middle;\n",
       "    }\n",
       "\n",
       "    .dataframe tbody tr th {\n",
       "        vertical-align: top;\n",
       "    }\n",
       "\n",
       "    .dataframe thead th {\n",
       "        text-align: right;\n",
       "    }\n",
       "</style>\n",
       "<table border=\"1\" class=\"dataframe\">\n",
       "  <thead>\n",
       "    <tr style=\"text-align: right;\">\n",
       "      <th></th>\n",
       "      <th>Entity</th>\n",
       "      <th>Code</th>\n",
       "      <th>Year</th>\n",
       "      <th>Suicide rate (deaths per 100,000 individuals)</th>\n",
       "      <th>Depressive disorder rates (number suffering per 100,000)</th>\n",
       "      <th>Population</th>\n",
       "    </tr>\n",
       "  </thead>\n",
       "  <tbody>\n",
       "    <tr>\n",
       "      <th>2478</th>\n",
       "      <td>Australia</td>\n",
       "      <td>AUS</td>\n",
       "      <td>2008</td>\n",
       "      <td>10.696836</td>\n",
       "      <td>4339.665686</td>\n",
       "      <td>21332000.0</td>\n",
       "    </tr>\n",
       "    <tr>\n",
       "      <th>2479</th>\n",
       "      <td>Australia</td>\n",
       "      <td>AUS</td>\n",
       "      <td>2009</td>\n",
       "      <td>10.740312</td>\n",
       "      <td>4318.201827</td>\n",
       "      <td>21751000.0</td>\n",
       "    </tr>\n",
       "    <tr>\n",
       "      <th>2480</th>\n",
       "      <td>Australia</td>\n",
       "      <td>AUS</td>\n",
       "      <td>2010</td>\n",
       "      <td>10.758437</td>\n",
       "      <td>4297.627545</td>\n",
       "      <td>22155000.0</td>\n",
       "    </tr>\n",
       "    <tr>\n",
       "      <th>2481</th>\n",
       "      <td>Australia</td>\n",
       "      <td>AUS</td>\n",
       "      <td>2011</td>\n",
       "      <td>10.645355</td>\n",
       "      <td>4280.519197</td>\n",
       "      <td>22538000.0</td>\n",
       "    </tr>\n",
       "    <tr>\n",
       "      <th>2482</th>\n",
       "      <td>Australia</td>\n",
       "      <td>AUS</td>\n",
       "      <td>2012</td>\n",
       "      <td>10.494145</td>\n",
       "      <td>4261.766084</td>\n",
       "      <td>22904000.0</td>\n",
       "    </tr>\n",
       "    <tr>\n",
       "      <th>2483</th>\n",
       "      <td>Australia</td>\n",
       "      <td>AUS</td>\n",
       "      <td>2013</td>\n",
       "      <td>10.533590</td>\n",
       "      <td>4237.969225</td>\n",
       "      <td>23255000.0</td>\n",
       "    </tr>\n",
       "    <tr>\n",
       "      <th>2484</th>\n",
       "      <td>Australia</td>\n",
       "      <td>AUS</td>\n",
       "      <td>2014</td>\n",
       "      <td>10.962727</td>\n",
       "      <td>4216.684419</td>\n",
       "      <td>23596000.0</td>\n",
       "    </tr>\n",
       "    <tr>\n",
       "      <th>2485</th>\n",
       "      <td>Australia</td>\n",
       "      <td>AUS</td>\n",
       "      <td>2015</td>\n",
       "      <td>11.277802</td>\n",
       "      <td>4191.014282</td>\n",
       "      <td>23932000.0</td>\n",
       "    </tr>\n",
       "    <tr>\n",
       "      <th>2486</th>\n",
       "      <td>Australia</td>\n",
       "      <td>AUS</td>\n",
       "      <td>2016</td>\n",
       "      <td>11.081870</td>\n",
       "      <td>4163.446121</td>\n",
       "      <td>24263000.0</td>\n",
       "    </tr>\n",
       "    <tr>\n",
       "      <th>2487</th>\n",
       "      <td>Australia</td>\n",
       "      <td>AUS</td>\n",
       "      <td>2017</td>\n",
       "      <td>11.046885</td>\n",
       "      <td>4137.162467</td>\n",
       "      <td>24585000.0</td>\n",
       "    </tr>\n",
       "  </tbody>\n",
       "</table>\n",
       "</div>"
      ],
      "text/plain": [
       "         Entity Code  Year  Suicide rate (deaths per 100,000 individuals)  \\\n",
       "2478  Australia  AUS  2008                                      10.696836   \n",
       "2479  Australia  AUS  2009                                      10.740312   \n",
       "2480  Australia  AUS  2010                                      10.758437   \n",
       "2481  Australia  AUS  2011                                      10.645355   \n",
       "2482  Australia  AUS  2012                                      10.494145   \n",
       "2483  Australia  AUS  2013                                      10.533590   \n",
       "2484  Australia  AUS  2014                                      10.962727   \n",
       "2485  Australia  AUS  2015                                      11.277802   \n",
       "2486  Australia  AUS  2016                                      11.081870   \n",
       "2487  Australia  AUS  2017                                      11.046885   \n",
       "\n",
       "      Depressive disorder rates (number suffering per 100,000)  Population  \n",
       "2478                                        4339.665686         21332000.0  \n",
       "2479                                        4318.201827         21751000.0  \n",
       "2480                                        4297.627545         22155000.0  \n",
       "2481                                        4280.519197         22538000.0  \n",
       "2482                                        4261.766084         22904000.0  \n",
       "2483                                        4237.969225         23255000.0  \n",
       "2484                                        4216.684419         23596000.0  \n",
       "2485                                        4191.014282         23932000.0  \n",
       "2486                                        4163.446121         24263000.0  \n",
       "2487                                        4137.162467         24585000.0  "
      ]
     },
     "execution_count": 36,
     "metadata": {},
     "output_type": "execute_result"
    }
   ],
   "source": [
    "# Preview dataset\n",
    "total_suicide_rate_australia.tail(10)"
   ]
  },
  {
   "cell_type": "code",
   "execution_count": 37,
   "metadata": {},
   "outputs": [
    {
     "data": {
      "text/plain": [
       "Entity                                                                                                       0\n",
       "Code                                                                                                         0\n",
       "Year                                                                                                         0\n",
       "Prevalence - Depressive disorders - Sex: Both - Age: All Ages (Number) (people suffering from depression)    0\n",
       "dtype: int64"
      ]
     },
     "execution_count": 37,
     "metadata": {},
     "output_type": "execute_result"
    }
   ],
   "source": [
    "# Check NULL values\n",
    "total_depression_population_australia.isnull().sum()"
   ]
  },
  {
   "cell_type": "code",
   "execution_count": 38,
   "metadata": {},
   "outputs": [
    {
     "data": {
      "text/html": [
       "<div>\n",
       "<style scoped>\n",
       "    .dataframe tbody tr th:only-of-type {\n",
       "        vertical-align: middle;\n",
       "    }\n",
       "\n",
       "    .dataframe tbody tr th {\n",
       "        vertical-align: top;\n",
       "    }\n",
       "\n",
       "    .dataframe thead th {\n",
       "        text-align: right;\n",
       "    }\n",
       "</style>\n",
       "<table border=\"1\" class=\"dataframe\">\n",
       "  <thead>\n",
       "    <tr style=\"text-align: right;\">\n",
       "      <th></th>\n",
       "      <th>Entity</th>\n",
       "      <th>Code</th>\n",
       "      <th>Year</th>\n",
       "      <th>Prevalence - Depressive disorders - Sex: Both - Age: All Ages (Number) (people suffering from depression)</th>\n",
       "    </tr>\n",
       "  </thead>\n",
       "  <tbody>\n",
       "    <tr>\n",
       "      <th>322</th>\n",
       "      <td>Australia</td>\n",
       "      <td>AUS</td>\n",
       "      <td>2004</td>\n",
       "      <td>940615.173427</td>\n",
       "    </tr>\n",
       "    <tr>\n",
       "      <th>323</th>\n",
       "      <td>Australia</td>\n",
       "      <td>AUS</td>\n",
       "      <td>2005</td>\n",
       "      <td>955721.548705</td>\n",
       "    </tr>\n",
       "    <tr>\n",
       "      <th>324</th>\n",
       "      <td>Australia</td>\n",
       "      <td>AUS</td>\n",
       "      <td>2006</td>\n",
       "      <td>968908.826619</td>\n",
       "    </tr>\n",
       "    <tr>\n",
       "      <th>325</th>\n",
       "      <td>Australia</td>\n",
       "      <td>AUS</td>\n",
       "      <td>2007</td>\n",
       "      <td>980261.963209</td>\n",
       "    </tr>\n",
       "    <tr>\n",
       "      <th>326</th>\n",
       "      <td>Australia</td>\n",
       "      <td>AUS</td>\n",
       "      <td>2008</td>\n",
       "      <td>990289.063465</td>\n",
       "    </tr>\n",
       "  </tbody>\n",
       "</table>\n",
       "</div>"
      ],
      "text/plain": [
       "        Entity Code  Year  \\\n",
       "322  Australia  AUS  2004   \n",
       "323  Australia  AUS  2005   \n",
       "324  Australia  AUS  2006   \n",
       "325  Australia  AUS  2007   \n",
       "326  Australia  AUS  2008   \n",
       "\n",
       "     Prevalence - Depressive disorders - Sex: Both - Age: All Ages (Number) (people suffering from depression)  \n",
       "322                                      940615.173427                                                          \n",
       "323                                      955721.548705                                                          \n",
       "324                                      968908.826619                                                          \n",
       "325                                      980261.963209                                                          \n",
       "326                                      990289.063465                                                          "
      ]
     },
     "execution_count": 38,
     "metadata": {},
     "output_type": "execute_result"
    }
   ],
   "source": [
    "total_depression_population_australia.head()"
   ]
  },
  {
   "cell_type": "code",
   "execution_count": 39,
   "metadata": {},
   "outputs": [],
   "source": [
    "# total_depression_population_australia.to_csv(\"Total_depression_population_AUS.csv\", index = False)"
   ]
  }
 ],
 "metadata": {
  "kernelspec": {
   "display_name": "Python 3",
   "language": "python",
   "name": "python3"
  },
  "language_info": {
   "codemirror_mode": {
    "name": "ipython",
    "version": 3
   },
   "file_extension": ".py",
   "mimetype": "text/x-python",
   "name": "python",
   "nbconvert_exporter": "python",
   "pygments_lexer": "ipython3",
   "version": "3.7.7"
  }
 },
 "nbformat": 4,
 "nbformat_minor": 4
}
